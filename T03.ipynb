{
 "cells": [
  {
   "cell_type": "markdown",
   "id": "1a4ccacb-ad4f-49ad-ab96-9c0ea34689c9",
   "metadata": {},
   "source": [
    "03/09/2024"
   ]
  },
  {
   "cell_type": "markdown",
   "id": "78698490-7471-4f70-ae59-46a0eda208d5",
   "metadata": {},
   "source": [
    "Esdras Lara Magaña, 752312"
   ]
  },
  {
   "cell_type": "markdown",
   "id": "b7462d8d-8d34-462f-9b7f-18360df3d0a5",
   "metadata": {},
   "source": [
    "# T03-Sympy"
   ]
  },
  {
   "cell_type": "markdown",
   "id": "36846b09-49db-4cdc-ab25-34b2191f0373",
   "metadata": {},
   "source": [
    "1. El perímetro de un triángulo isósceles es de 20 cm. Imagina que este triángulo rota centrado en su eje de simetría para formar la ilusión de un cono.\n",
    "\n",
    "¿Cuánto deben medir sus lados para que el volumen generado por la rotación sea el mayor posible?"
   ]
  },
  {
   "cell_type": "code",
   "execution_count": 16,
   "id": "15308782-7f85-4e24-aea8-f195306476c5",
   "metadata": {},
   "outputs": [
    {
     "name": "stdout",
     "output_type": "stream",
     "text": [
      "Lado igual óptimo (a):  6.00 cm\n",
      "Base óptima (b): 8.00 cm\n",
      "Altura del cono: 4.47 cm\n",
      "Volumen máximo del cono: 74.93 cm³\n"
     ]
    }
   ],
   "source": [
    "import sympy as sp\n",
    "\n",
    "sp.var (\"a\")\n",
    "sp.var (\"b\")\n",
    "sp.var (\"h\")\n",
    "sp.var (\"r\")\n",
    "pi = sp.pi\n",
    "\n",
    "perimetro = 2 * a + b - 20\n",
    "\n",
    "h = sp.sqrt(a**2 - (b/2)**2)\n",
    "\n",
    "r = b / 2\n",
    "\n",
    "volumen = (1 / 3) * pi * r**2 * h\n",
    "\n",
    "b_ex = sp.solve(perimetro, b)[0]\n",
    "\n",
    "h_ex = sp.sqrt(a**2 - (b_ex / 2)**2)\n",
    "volumen_ex = (1 / 3) * pi * (b_ex / 2)**2 * h_ex\n",
    "\n",
    "volumen_d = sp.diff(volumen_ex, a)\n",
    "optimo_a = sp.solve(volumen_d, a)[0]\n",
    "\n",
    "optimo_b = b_ex.subs(a, optimo_a)\n",
    "\n",
    "optimo_h = h_ex.subs(a, optimo_a)\n",
    "optimo_vol = volumen_ex.subs(a, optimo_a)\n",
    "\n",
    "print(f\"Lado igual óptimo (a): {optimo_a: .2f} cm\")\n",
    "print(f\"Base óptima (b): {optimo_b:.2f} cm\")\n",
    "print(f\"Altura del cono: {optimo_h:.2f} cm\")\n",
    "print(f\"Volumen máximo del cono: {optimo_vol:.2f} cm³\")\n"
   ]
  },
  {
   "cell_type": "markdown",
   "id": "775bdae0-1669-4366-ac38-7ea763a84a56",
   "metadata": {},
   "source": [
    "2. Disponemos de una barra de aluminio de 6 metros para construir una portería de fútbol en un parque. Es una portería simple que tendrá sólo dos postes y el travesaño:\n",
    "\n",
    "Si queremos que el área de la portería sea máxima, ¿cuánto deben medir los postes y el travesaño?\r\n"
   ]
  },
  {
   "cell_type": "code",
   "execution_count": 21,
   "id": "00d1fe37-3e62-4d7f-9c32-13878e9b03ee",
   "metadata": {},
   "outputs": [
    {
     "name": "stdout",
     "output_type": "stream",
     "text": [
      "Altura óptima de los postes (x): 1.50 metros\n",
      "Longitud óptima del travesaño (y): 3.00 metros\n",
      "Área máxima de la portería: 4.50 metros cuadrados\n"
     ]
    }
   ],
   "source": [
    "sp.var (\"x\")\n",
    "sp.var (\"y\")\n",
    "\n",
    "L = 6\n",
    "\n",
    "c = 2 * x + y - L\n",
    "\n",
    "a = x * y\n",
    "\n",
    "y_ex = sp.solve(c, y)[0]\n",
    "\n",
    "a_ex = x * y_ex\n",
    "\n",
    "a_d = sp.diff(a_ex, x)\n",
    "\n",
    "op_x = sp.solve(a_d, x)[0]\n",
    "\n",
    "op_y = y_ex.subs(x, op_x)\n",
    "\n",
    "op_a = a_ex.subs(x, op_x)\n",
    "\n",
    "print(f\"Altura óptima de los postes (x): {op_x:.2f} metros\")\n",
    "print(f\"Longitud óptima del travesaño (y): {op_y:.2f} metros\")\n",
    "print(f\"Área máxima de la portería: {op_a:.2f} metros cuadrados\")"
   ]
  },
  {
   "cell_type": "markdown",
   "id": "4225e52e-7d57-480f-b139-c7ae65706146",
   "metadata": {},
   "source": [
    "3. Resistencia de una viga. Una viga de madera tiene una sección transversal rectangular de altura h y ancho w. La resistencia S de la viga es directamente proporcional al ancho y al cuadrado de su altura (S = kwh^2, donde k es una constante de proporcionalidad). i Cuáles son las dimensiones de la viga más fuerte que puede cortarse a partir de un leno redondo de 24 pulgadas de diámetro?"
   ]
  },
  {
   "cell_type": "code",
   "execution_count": 34,
   "id": "4ffd1bfa-d8df-486e-92e1-ccb8a8c36689",
   "metadata": {},
   "outputs": [
    {
     "name": "stdout",
     "output_type": "stream",
     "text": [
      "Altura óptima (altura): 0.00 pulgadas\n",
      "Ancho óptimo (ancho): -24.00 pulgadas\n",
      "Resistencia máxima de la viga: 0.00\n"
     ]
    }
   ],
   "source": [
    "sp.var (\"ancho\")\n",
    "sp.var (\"altura\")\n",
    "\n",
    "resistencia = k * ancho * altura**2\n",
    "\n",
    "restriccion_circulo = (ancho**2 + altura**2) - (24**2)\n",
    "\n",
    "ancho_ex = sp.solve(restriccion_circulo, ancho)[0]\n",
    "\n",
    "resistencia_ex = k * ancho_ex * altura**2\n",
    "\n",
    "resistencia_d = sp.diff(resistencia_ex, altura)\n",
    "\n",
    "altura_op = sp.solve(resistencia_d, altura)[0]\n",
    "\n",
    "ancho_op = ancho_ex.subs(altura, altura_op)\n",
    "\n",
    "resistencia_op = resistencia_ex.subs(altura, altura_optima)\n",
    "\n",
    "print(f\"Altura óptima (altura): {altura_op:.2f} pulgadas\")\n",
    "print(f\"Ancho óptimo (ancho): {ancho_op:.2f} pulgadas\")\n",
    "print(f\"Resistencia máxima de la viga: {resistencia_op:.2f}\")"
   ]
  },
  {
   "cell_type": "markdown",
   "id": "104457ae-0077-46ee-a397-c67c955fbba8",
   "metadata": {},
   "source": [
    "4. Una fuente luminosa se localiza sobre el centro de una mesa circular de 4 pies de diámetro. Encontrar la altura h de la fuente luminosa de modo tal que la iluminación I en el perímetro de la mesa sea máxima si I = k(sin a)/s^2, donde s es la altura oblicua, a es el ángulo al cual la luz incide sobre la mesa y k es una constante (El valor de esta última constante es irrelevante para el problema, ya que no se pide el valor de la iluminación)."
   ]
  },
  {
   "cell_type": "markdown",
   "id": "b53f5ed9-2d5d-434c-be1f-085b4e0a2b06",
   "metadata": {},
   "source": [
    "5. Fuerza mínima. Se diseña un componente para deslizar un bloque de acero con peso W = I0N a través de una mesa y sobre una canaleta. Se opone al movimiento del bloque una fuerza de fricción proporcional a su peso aparente (sea k = 0. 1 la constante de proporcionalidad). Determinar la fuerza mínima f necesaria para deslizar el bloque y encontrar el valor correspondiente del ángulo."
   ]
  },
  {
   "cell_type": "code",
   "execution_count": 42,
   "id": "6e29c96f-d171-4d27-bf75-e2e6e92d7486",
   "metadata": {},
   "outputs": [
    {
     "name": "stdout",
     "output_type": "stream",
     "text": [
      "Ángulo óptimo (theta) para minimizar la fuerza: 1.57 radianes\n",
      "Fuerza mínima necesaria para deslizar el bloque: 1.00 N\n"
     ]
    }
   ],
   "source": [
    "sp.var(\"theta\")\n",
    "W = 10  \n",
    "k = 0.1 \n",
    "\n",
    "W_pa = W * sp.sin(theta)\n",
    "\n",
    "fuerza_friccion = k * W\n",
    "\n",
    "fuerza_minima = fuerza_friccion / sp.sin(theta)\n",
    "\n",
    "fuerza_md = sp.diff(fuerza_minima, theta)\n",
    "\n",
    "angulo_op = sp.solve(fuerza_md, theta)[0]\n",
    "\n",
    "fuerza_md = fuerza_minima.subs(theta, angulo_op)\n",
    "\n",
    "print(f\"Ángulo óptimo (theta) para minimizar la fuerza: {angulo_op.evalf():.2f} radianes\")\n",
    "print(f\"Fuerza mínima necesaria para deslizar el bloque: {fuerza_md.evalf():.2f} N\")\n"
   ]
  },
  {
   "cell_type": "code",
   "execution_count": null,
   "id": "24b2050b-f53e-4ded-8a96-98e8ad8fb818",
   "metadata": {},
   "outputs": [],
   "source": []
  }
 ],
 "metadata": {
  "kernelspec": {
   "display_name": "Python 3 (ipykernel)",
   "language": "python",
   "name": "python3"
  },
  "language_info": {
   "codemirror_mode": {
    "name": "ipython",
    "version": 3
   },
   "file_extension": ".py",
   "mimetype": "text/x-python",
   "name": "python",
   "nbconvert_exporter": "python",
   "pygments_lexer": "ipython3",
   "version": "3.12.4"
  }
 },
 "nbformat": 4,
 "nbformat_minor": 5
}
