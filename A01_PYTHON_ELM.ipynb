{
 "cells": [
  {
   "cell_type": "markdown",
   "id": "b85411b2-d983-4e09-8d87-e3f50d5a1d0e",
   "metadata": {},
   "source": [
    "19/08/2024"
   ]
  },
  {
   "cell_type": "markdown",
   "id": "c0679291-2b9b-4e18-b8f9-b975650b058b",
   "metadata": {},
   "source": [
    "Esdras Lara Magaña"
   ]
  },
  {
   "cell_type": "markdown",
   "id": "770699c8-c333-45e5-bdf3-ea2455535be0",
   "metadata": {},
   "source": [
    "# FACTORIAL"
   ]
  },
  {
   "cell_type": "code",
   "execution_count": 9,
   "id": "a814ff05-1cfb-48b2-900d-c92cbeab96c7",
   "metadata": {},
   "outputs": [
    {
     "name": "stdout",
     "output_type": "stream",
     "text": [
      "5040\n"
     ]
    }
   ],
   "source": [
    "a = 7\n",
    "b = 1\n",
    "\n",
    "i = 1\n",
    "while (i <= a) :\n",
    "    b = b * i\n",
    "    i = i + 1\n",
    "\n",
    "print(b)"
   ]
  },
  {
   "cell_type": "markdown",
   "id": "8b78b8b8-5cae-4fd1-af0f-b80017ec758a",
   "metadata": {},
   "source": [
    "# NÚMEROS PRIMOS"
   ]
  },
  {
   "cell_type": "code",
   "execution_count": 5,
   "id": "c5fd832f-c7b2-4b5b-9f02-ec980195e983",
   "metadata": {},
   "outputs": [
    {
     "name": "stdin",
     "output_type": "stream",
     "text": [
      " Dame un número:  7\n"
     ]
    },
    {
     "name": "stdout",
     "output_type": "stream",
     "text": [
      "El número 7 es primo.\n"
     ]
    }
   ],
   "source": [
    "def es_primo(a):\n",
    "    if a <= 1:\n",
    "        return False\n",
    "    if a == 2 or a == 3:\n",
    "        return True\n",
    "    if a % 2 == 0:\n",
    "        return False\n",
    "    i = 3\n",
    "    while i * i <= a:\n",
    "        if a % i == 0:\n",
    "            return False\n",
    "        i += 2\n",
    "    return True\n",
    "\n",
    "a = int(input(\" Dame un número: \"))\n",
    "\n",
    "if es_primo(a):\n",
    "    print(f\"El número {a} es primo.\")\n",
    "else:\n",
    "    print(f\"El número {a} no es primo.\")\n"
   ]
  },
  {
   "cell_type": "markdown",
   "id": "a186b502-f438-4326-8176-3cde11dfe61b",
   "metadata": {},
   "source": [
    "## NOTA"
   ]
  },
  {
   "cell_type": "markdown",
   "id": "5f3007d8-6e84-40a1-b3cb-1aa0ece118fe",
   "metadata": {},
   "source": [
    "Para el código de números primos tuve que buscar algunas cosas en internet ya que no me salía bien después de varios intentos."
   ]
  },
  {
   "cell_type": "code",
   "execution_count": 21,
   "id": "29c1d311-47ca-4fdc-9114-4116a366ad9c",
   "metadata": {},
   "outputs": [
    {
     "ename": "SyntaxError",
     "evalue": "(unicode error) 'unicodeescape' codec can't decode bytes in position 2-3: truncated \\UXXXXXXXX escape (1852431160.py, line 1)",
     "output_type": "error",
     "traceback": [
      "\u001b[1;36m  Cell \u001b[1;32mIn[21], line 1\u001b[1;36m\u001b[0m\n\u001b[1;33m    imagen = 'C:\\Users\\esdra\\Downloads\\1.jpeg'\u001b[0m\n\u001b[1;37m             ^\u001b[0m\n\u001b[1;31mSyntaxError\u001b[0m\u001b[1;31m:\u001b[0m (unicode error) 'unicodeescape' codec can't decode bytes in position 2-3: truncated \\UXXXXXXXX escape\n"
     ]
    }
   ],
   "source": [
    "imagen = 'https://1drv.ms/i/s!AoIBeAAC5ojciHkobdXFl0A0eC8k?e=3QYGB6'"
   ]
  },
  {
   "cell_type": "code",
   "execution_count": null,
   "id": "2e6b7231-a10e-4d7b-9e82-2abf71c1ccc3",
   "metadata": {},
   "outputs": [],
   "source": []
  }
 ],
 "metadata": {
  "kernelspec": {
   "display_name": "Python 3 (ipykernel)",
   "language": "python",
   "name": "python3"
  },
  "language_info": {
   "codemirror_mode": {
    "name": "ipython",
    "version": 3
   },
   "file_extension": ".py",
   "mimetype": "text/x-python",
   "name": "python",
   "nbconvert_exporter": "python",
   "pygments_lexer": "ipython3",
   "version": "3.12.4"
  }
 },
 "nbformat": 4,
 "nbformat_minor": 5
}
