{
 "cells": [
  {
   "cell_type": "markdown",
   "id": "03c5c348-44cc-4c01-bb97-a2816927d2af",
   "metadata": {},
   "source": [
    "29/08/2024"
   ]
  },
  {
   "cell_type": "markdown",
   "id": "77de147d-cb15-4708-b511-27a6ce7c1039",
   "metadata": {},
   "source": [
    "Esdras Lara Magaña, 752312"
   ]
  },
  {
   "cell_type": "markdown",
   "id": "046ec00f-7b0e-4d4d-bd2a-f0d7c95a6709",
   "metadata": {},
   "source": [
    "# A04-Sympy"
   ]
  },
  {
   "cell_type": "code",
   "execution_count": 48,
   "id": "d684f2eb-03de-4577-850b-961ed2a9a523",
   "metadata": {},
   "outputs": [],
   "source": [
    "import sympy as sp\n",
    "import matplotlib.pyplot as plt\n",
    "import numpy as np "
   ]
  },
  {
   "cell_type": "markdown",
   "id": "4a474c67-4c82-4b03-b80b-03327f6507d4",
   "metadata": {},
   "source": [
    "1. Utiliza sympy y encuentra los valores de las incógnitas que hagan que los siguientes sistemas de ecuaciones sean verdaderos:"
   ]
  },
  {
   "cell_type": "markdown",
   "id": "92fce8a7-8c2b-4da0-9b79-4aec9f7a21a6",
   "metadata": {},
   "source": [
    "$$ x + y = 10 $$\n",
    "$$ x - y = 2 $$"
   ]
  },
  {
   "cell_type": "code",
   "execution_count": 11,
   "id": "a0442edf-6fd6-4ca4-a789-cdc2987c054b",
   "metadata": {},
   "outputs": [
    {
     "data": {
      "text/plain": [
       "(6, 4)"
      ]
     },
     "execution_count": 11,
     "metadata": {},
     "output_type": "execute_result"
    }
   ],
   "source": [
    "sp.var (\"x\")\n",
    "sp.var (\"y\")\n",
    "\n",
    "e1 = x + y - 10\n",
    "e2 = x - y -2\n",
    "\n",
    "x_e1 = sp.solve(e1, x)[0]\n",
    "x_e1\n",
    "\n",
    "y_e2 = e2.subs(x, x_e1)\n",
    "y_sol = sp.solve(y_e2, y)[0]\n",
    "\n",
    "x_sol = x_e1.subs(y, y_sol)\n",
    "\n",
    "x_sol, y_sol"
   ]
  },
  {
   "cell_type": "markdown",
   "id": "806dc1f6-abb1-4917-8381-7f0b97579161",
   "metadata": {},
   "source": [
    "$$ \\frac{3x - 2y}{3} + 4y = \\frac{13}{3}$$\n",
    "\n",
    "$$\\frac{2(-2y + x)}{3} - \\frac{3x}{2} = -\\frac{13}{6} $$"
   ]
  },
  {
   "cell_type": "code",
   "execution_count": 34,
   "id": "d7df69fd-d8e2-459d-a2b6-0ad8ddc602ce",
   "metadata": {},
   "outputs": [
    {
     "data": {
      "text/plain": [
       "(1.00000000000000, 1.00000000000000)"
      ]
     },
     "execution_count": 34,
     "metadata": {},
     "output_type": "execute_result"
    }
   ],
   "source": [
    "sp.var (\"x\")\n",
    "sp.var (\"y\")\n",
    "\n",
    "e1 = ((3*x - 2*y)/3) + 4*y - (13/3)\n",
    "e2 = (2*(- 2*y + x)/3) - ((3*x)/2) + (13/6)\n",
    "\n",
    "x_e1 = sp.solve(e1, x)[0]\n",
    "x_e1\n",
    "\n",
    "y_e2 = e2.subs(x, x_e1)\n",
    "y_sol = sp.solve(y_e2, y)[0]\n",
    "\n",
    "x_sol = x_e1.subs(y, y_sol)\n",
    "\n",
    "x_sol, y_sol"
   ]
  },
  {
   "cell_type": "markdown",
   "id": "6964420e-b561-4eea-8ef2-926c0b6b3ce4",
   "metadata": {},
   "source": [
    "$$ x^2 - 2y = 16 $$\n",
    "$$ x - y = 3 $$"
   ]
  },
  {
   "cell_type": "code",
   "execution_count": 39,
   "id": "038d9a47-18a9-499d-ba49-ec5ba6f397b4",
   "metadata": {},
   "outputs": [
    {
     "data": {
      "text/plain": [
       "(-sqrt(12 - 2*sqrt(11)), -sqrt(11) - 2)"
      ]
     },
     "execution_count": 39,
     "metadata": {},
     "output_type": "execute_result"
    }
   ],
   "source": [
    "sp.var (\"x\")\n",
    "sp.var (\"y\")\n",
    "\n",
    "e1 = x**2 - 2*y - 16\n",
    "e2 = x - y - 3\n",
    "\n",
    "x_e1 = sp.solve(e1, x)[0]\n",
    "x_e1\n",
    "\n",
    "y_e2 = e2.subs(x, x_e1)\n",
    "y_sol = sp.solve(y_e2, y)[0]\n",
    "\n",
    "x_sol = x_e1.subs(y, y_sol)\n",
    "\n",
    "x_sol, y_sol"
   ]
  },
  {
   "cell_type": "markdown",
   "id": "8ee3bcd9-c905-4579-ad77-e756665f2147",
   "metadata": {},
   "source": [
    "$$ x + y - z = 10 $$\n",
    "$$ x - y = 2 $$\n",
    "$$ y + z = -2 $$"
   ]
  },
  {
   "cell_type": "code",
   "execution_count": 44,
   "id": "1d876c47-0840-4e81-a98f-4e9aa5383aca",
   "metadata": {},
   "outputs": [
    {
     "data": {
      "text/plain": [
       "(5 - y/2, 3 - y/2, -x)"
      ]
     },
     "execution_count": 44,
     "metadata": {},
     "output_type": "execute_result"
    }
   ],
   "source": [
    "sp.var (\"x\")\n",
    "sp.var (\"y\")\n",
    "sp.var (\"z\")\n",
    "\n",
    "e1 = x + y - z - 10\n",
    "e2 = x - y - 2\n",
    "e3 = y + z + 2\n",
    "\n",
    "y_e2 = sp.solve(e2, y)[0]\n",
    "y_e2\n",
    "\n",
    "z_e3 = e3.subs(y, y_e2)\n",
    "z_sol = sp.solve(z_e3, z)[0]\n",
    "\n",
    "x_e1 = e1.subs(z, z_sol)\n",
    "x_sol = sp.solve(x_e1, x)[0]\n",
    "\n",
    "y_sol = y_e2.subs(x, x_sol)\n",
    "\n",
    "x_sol, y_sol, z_sol"
   ]
  },
  {
   "cell_type": "markdown",
   "id": "bc010f2b-8b1c-4e08-980c-e916c75b08a4",
   "metadata": {},
   "source": [
    "2. Encuentra los puntos críticos usando cálculo diferencial, decide si son máximos o mínimos usando el criterio de la segunda derivada, y grafica para decidir se son óptimos locales o globales:"
   ]
  },
  {
   "cell_type": "markdown",
   "id": "7a2a446b-db3e-4c47-9f20-71bb7ba9549e",
   "metadata": {},
   "source": [
    "$$ f(x) = 1235 + 113x - 6x^2 $$"
   ]
  },
  {
   "cell_type": "code",
   "execution_count": 70,
   "id": "acd3b660-62ce-4141-b497-2ab09d806abd",
   "metadata": {},
   "outputs": [
    {
     "name": "stdout",
     "output_type": "stream",
     "text": [
      "El punto critico está en 113/12\n"
     ]
    },
    {
     "data": {
      "image/png": "[encoded data removed]",
      "text/plain": [
       "<Figure size 500x300 with 1 Axes>"
      ]
     },
     "metadata": {},
     "output_type": "display_data"
    }
   ],
   "source": [
    "sp.var(\"x\")\n",
    "f = 1235+113*x-6*x**2\n",
    "def f(x):\n",
    "    return 1235+113*x-6*x**2\n",
    "    \n",
    "df = sp.diff(f(x),x)\n",
    "pc = sp.solve(df,x)\n",
    "\n",
    "print(\"El punto critico está en \" + str(pc[0]))\n",
    "\n",
    "x = np.linspace(-3, 3, 101)\n",
    "plt.figure(figsize=(5,3))\n",
    "plt.plot(x,f(x))\n",
    "plt.grid()"
   ]
  },
  {
   "cell_type": "code",
   "execution_count": null,
   "id": "e1ab8051-23ba-4d90-90a9-02486a28c983",
   "metadata": {},
   "outputs": [],
   "source": []
  }
 ],
 "metadata": {
  "kernelspec": {
   "display_name": "Python 3 (ipykernel)",
   "language": "python",
   "name": "python3"
  },
  "language_info": {
   "codemirror_mode": {
    "name": "ipython",
    "version": 3
   },
   "file_extension": ".py",
   "mimetype": "text/x-python",
   "name": "python",
   "nbconvert_exporter": "python",
   "pygments_lexer": "ipython3",
   "version": "3.12.4"
  }
 },
 "nbformat": 4,
 "nbformat_minor": 5
}
