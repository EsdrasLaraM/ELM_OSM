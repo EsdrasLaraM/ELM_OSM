{
 "cells": [
  {
   "cell_type": "code",
   "execution_count": null,
   "id": "f88bd7fb-026a-4ce4-8081-8336ba02d023",
   "metadata": {},
   "outputs": [],
   "source": [
    "Esdras Lara Magaña"
   ]
  },
  {
   "cell_type": "markdown",
   "id": "281742e4-fc85-4de9-bbcc-f8c9ccd7081c",
   "metadata": {},
   "source": [
    "1."
   ]
  },
  {
   "cell_type": "code",
   "execution_count": 6,
   "id": "14ad2a06-4044-4595-9515-5343fdb22c2c",
   "metadata": {},
   "outputs": [
    {
     "name": "stdin",
     "output_type": "stream",
     "text": [
      " Dame un número:  7\n"
     ]
    },
    {
     "name": "stdout",
     "output_type": "stream",
     "text": [
      "True\n"
     ]
    }
   ],
   "source": [
    "def esprimo(a):\n",
    "    if a <= 1:\n",
    "        return False\n",
    "    if a == 2 or a == 3:\n",
    "        return True\n",
    "    if a % 2 == 0:\n",
    "        return False\n",
    "    i = 3\n",
    "    while i * i <= a:\n",
    "        if a % i == 0:\n",
    "            return False\n",
    "        i += 2\n",
    "    return True\n",
    "\n",
    "a = int(input(\" Dame un número: \"))\n",
    "\n",
    "if esprimo(a):\n",
    "    print(f\"True\")\n",
    "else:\n",
    "    print(f\"False\")"
   ]
  },
  {
   "cell_type": "markdown",
   "id": "7e840c04-8fb5-4866-b81c-59b0de845462",
   "metadata": {},
   "source": [
    "2."
   ]
  },
  {
   "cell_type": "markdown",
   "id": "cdd24acb-da06-4960-84ce-9254d0e45d57",
   "metadata": {},
   "source": []
  },
  {
   "cell_type": "markdown",
   "id": "0979e7c9-6d10-4346-a6bc-041253afd7ad",
   "metadata": {},
   "source": [
    "3."
   ]
  },
  {
   "cell_type": "code",
   "execution_count": 4,
   "id": "65689a7e-5143-4ad6-bd87-877e88cd21ae",
   "metadata": {},
   "outputs": [
    {
     "name": "stdout",
     "output_type": "stream",
     "text": [
      "2\n",
      "6\n",
      "24\n",
      "120\n"
     ]
    }
   ],
   "source": [
    "l1 =[2,3,4,5]\n",
    "def factorial(a):\n",
    "    b = 1\n",
    "    i = 1\n",
    "    while (i <= a) :\n",
    "        b = b * i\n",
    "        i = i + 1\n",
    "    return b\n",
    "for elemento in l1:\n",
    "    print(factorial(elemento))\n",
    "\n"
   ]
  },
  {
   "cell_type": "markdown",
   "id": "5859648f-23b1-4e8e-be6a-96b22f4de43e",
   "metadata": {},
   "source": [
    "4."
   ]
  },
  {
   "cell_type": "code",
   "execution_count": null,
   "id": "1ffa65c4-93ea-407b-ada4-3dbac55787eb",
   "metadata": {},
   "outputs": [],
   "source": []
  }
 ],
 "metadata": {
  "kernelspec": {
   "display_name": "Python 3 (ipykernel)",
   "language": "python",
   "name": "python3"
  },
  "language_info": {
   "codemirror_mode": {
    "name": "ipython",
    "version": 3
   },
   "file_extension": ".py",
   "mimetype": "text/x-python",
   "name": "python",
   "nbconvert_exporter": "python",
   "pygments_lexer": "ipython3",
   "version": "3.12.4"
  }
 },
 "nbformat": 4,
 "nbformat_minor": 5
}
