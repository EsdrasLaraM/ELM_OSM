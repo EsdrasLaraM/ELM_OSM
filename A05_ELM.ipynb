{
 "cells": [
  {
   "cell_type": "markdown",
   "id": "be489a39-e469-4fe2-8482-d6ccf9786fba",
   "metadata": {},
   "source": [
    "05/09/2024"
   ]
  },
  {
   "cell_type": "markdown",
   "id": "9f900a1a-0368-4293-8b6c-19656b559d3d",
   "metadata": {},
   "source": [
    "Esdras Lara Magaña, 752312"
   ]
  },
  {
   "cell_type": "markdown",
   "id": "05ef24eb-7395-44f5-86d6-1f8ae9cd86ae",
   "metadata": {},
   "source": [
    "## A05_Programación lineal"
   ]
  },
  {
   "cell_type": "markdown",
   "id": "4ae7392f-6ea1-47fb-8219-9b6e42538535",
   "metadata": {},
   "source": [
    "Plantea los siguientes ejercicios como problemas de optimización con la estructura vista en clase:"
   ]
  },
  {
   "cell_type": "markdown",
   "id": "04be0db3-ccf7-4d28-a630-3855a6ccb04a",
   "metadata": {},
   "source": [
    "Ejercicio 1\r\n",
    "\r\n",
    "Se quiere producir comida para gatos de la manera más barata, no obstante se debe también asegurar que se cumplan los datos requeridos de analisis nutricional. Por lo que se quiere variar la cantidad de cada ingrediente para cumplir con los estandares nutricionales. Los requisitos que se tienen es que en 100 gramos, se deben tener por lo menos 9 gramos de proteína y  7 gramos de grasa. Así mismo, no se debe tener más de 2.5 gramos de fibra y 0.5 gramos  sal  .\n",
    "l."
   ]
  },
  {
   "cell_type": "code",
   "execution_count": null,
   "id": "0e14760d-f913-4855-9d77-afbc074f9ac6",
   "metadata": {},
   "outputs": [],
   "source": []
  },
  {
   "cell_type": "markdown",
   "id": "5c369425-0e56-49e3-b7e4-a7f7925f4dcd",
   "metadata": {},
   "source": [
    "Lo que se busca optimizar en este caso es la cantidad de productos que se debe utilizar en la comida de gato, minimizando el costo total."
   ]
  },
  {
   "cell_type": "markdown",
   "id": "1c6513c0-86e1-4157-960b-4f63d68d2256",
   "metadata": {},
   "source": [
    "1. Identificar criterio\n",
    "    * Minimizar el costo total de la comida para gatos.\n",
    "\n",
    "2. Variables de control\n",
    "\n",
    "    * \\( p \\) = cantidad de pollo en la mezcla (en gramos)\n",
    "    * \\( c \\) = cantidad de carne en la mezcla (en gramos)\n",
    "    * \\( l \\) = cantidad de cordero en la mezcla (en gramos)\n",
    "    * \\( a \\) = cantidad de arroz en la mezcla (en gramos)\n",
    "    * \\( t \\) = cantidad de trigo en la mezcla (en gramos)\n",
    "    * \\( g \\) = cantidad de gel en la mezcla (en gramos)\n",
    "\n",
    "3. Función de costo\n",
    "\n",
    "La función de costo total es:\n",
    " C = 0.012p + 0.009c + 0.010l + 0.003a + 0.005t + 0.002g \n",
    "\n",
    "4. Información adicional\n",
    "\n",
    "- El total de la mezcla debe sumar 100 gramos:\n",
    "  \\[ p + c + l + a + t + g = 100 \\]\n",
    "\n",
    "- Contenido de proteína (debe ser al menos 9 gramos):\n",
    "  \\[ 0.10p + 0.20c + 0.15l + 0.00a + 0.04t + 0.00g \\geq 9 \\]\n",
    "\n",
    "- Contenido de grasa (debe ser al menos 7 gramos):\n",
    "  \\[ 0.08p + 0.10c + 0.11l + 0.01a + 0.01t + 0.00g \\geq 7 \\]\n",
    "\n",
    "- Contenido de fibra (no debe exceder los 2.5 gramos):\n",
    "  \\[ 0.00p + 0.00c + 0.00l + 0.10a + 0.15t + 0.00g \\leq 2.5 \\]\n",
    "\n",
    "- Contenido de sal (no debe exceder los 0.5 gramos):\n",
    "  \\[ 0.002p + 0.005c + 0.007l + 0.002a + 0.008t + 0.000g \\leq 0.5 \\]\n",
    "\n",
    "Problema de Optimización\n",
    "\n",
    "Minimizar el costo total:\n",
    " C = 0.012p + 0.009c + 0.010l + 0.003a + 0.005t + 0.002g \n",
    "\n",
    "Restricciones:\n",
    "\\[\n",
    "\\begin{align*}\n",
    "1. & \\quad p + c + l + a + t + g = 100 \\\\\n",
    "2. & \\quad 0.10p + 0.20c + 0.15l + 0.00a + 0.04t + 0.00g \\geq 9 \\\\\n",
    "3. & \\quad 0.08p + 0.10c + 0.11l + 0.01a + 0.01t + 0.00g \\geq 7 \\\\\n",
    "4. & \\quad 0.00p + 0.00c + 0.00l + 0.10a + 0.15t + 0.00g \\leq 2.5 \\\\\n",
    "5. & \\quad 0.002p + 0.005c + 0.007l + 0.002a + 0.008t + 0.000g \\leq 0.5 \\\\\n",
    "6. & \\quad p, c, l, a, t, g \\geq 0\n",
    "\\end{align*}\n",
    "\\`\n"
   ]
  },
  {
   "cell_type": "markdown",
   "id": "350fd3dd-4153-48f6-b6c1-09d7ee679680",
   "metadata": {},
   "source": [
    "Ejercicio 2\r\n",
    "\r\n",
    "La Comisión Federal de Electricidad (CFE) dispone de cuatro plantas de generación para satisfacer la demanda diaria eléctrica en cuatro ciudades, Guadalajara, León y Morelia. Las plantas 1, 2 y 3 pueden satisfacer 75, 50 y 60 millones de kW al día respectivamente. Las necesidades de las ciudades de Guadalajara, León y Morelia son de 60, 45 y 60 millones de Kw al día respectivamente.\r\n",
    "\r\n",
    "Los costos asociados al envío de suministro energético por cada millón de kW entre cada planta y cada ciudad son los registrados en la siguiente tabla."
   ]
  },
  {
   "cell_type": "code",
   "execution_count": null,
   "id": "84cac884-a61c-492a-a5b8-5daa7bfea2af",
   "metadata": {},
   "outputs": [],
   "source": []
  }
 ],
 "metadata": {
  "kernelspec": {
   "display_name": "Python 3 (ipykernel)",
   "language": "python",
   "name": "python3"
  },
  "language_info": {
   "codemirror_mode": {
    "name": "ipython",
    "version": 3
   },
   "file_extension": ".py",
   "mimetype": "text/x-python",
   "name": "python",
   "nbconvert_exporter": "python",
   "pygments_lexer": "ipython3",
   "version": "3.12.4"
  }
 },
 "nbformat": 4,
 "nbformat_minor": 5
}
