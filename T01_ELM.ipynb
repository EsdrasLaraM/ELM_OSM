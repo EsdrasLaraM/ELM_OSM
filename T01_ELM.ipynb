{
  "metadata": {
    "kernelspec": {
      "name": "python",
      "display_name": "Python (Pyodide)",
      "language": "python"
    },
    "language_info": {
      "codemirror_mode": {
        "name": "python",
        "version": 3
      },
      "file_extension": ".py",
      "mimetype": "text/x-python",
      "name": "python",
      "nbconvert_exporter": "python",
      "pygments_lexer": "ipython3",
      "version": "3.8"
    }
  },
  "nbformat_minor": 4,
  "nbformat": 4,
  "cells": [
    {
      "cell_type": "markdown",
      "source": "14/08/2024",
      "metadata": {}
    },
    {
      "cell_type": "markdown",
      "source": "Esdras Lara Magaña",
      "metadata": {}
    },
    {
      "cell_type": "markdown",
      "source": "# CÁLCULO ESTRUCTURAL",
      "metadata": {}
    },
    {
      "cell_type": "markdown",
      "source": "## ¿QUÉ ES?",
      "metadata": {}
    },
    {
      "cell_type": "markdown",
      "source": "El *cálculo de estructuras* es una etapa crucial en el proceso de **diseño y construcción de edificios** y otras estructuras. Consiste en analizar las cargas y fuerzas internas y externas que actúan sobre estas, con el objetivo de garantizar su seguridad y estabilidad.",
      "metadata": {}
    },
    {
      "cell_type": "markdown",
      "source": "![Cálculo estructural](https://alur-arquitectos.com/wp-content/uploads/wpbucket_thumb/proyecto-estructural-forta-ingenieria-1024x576-oejwvpj41bp4jucaok8gm2dxttonjpkdqbbf9clauk.jpg)",
      "metadata": {}
    },
    {
      "cell_type": "markdown",
      "source": "Existen diversos tipos de estructuras utilizadas en proyectos de construcción, las más comunes son:",
      "metadata": {}
    },
    {
      "cell_type": "markdown",
      "source": "1. Estructuras de hormigón\n2. Estructuras metálicas\n3. Estructuras de madera",
      "metadata": {}
    },
    {
      "cell_type": "markdown",
      "source": "## FÓRMULAS BÁSICAS EN CÁLCULO ESTRUCTURAL",
      "metadata": {}
    },
    {
      "cell_type": "markdown",
      "source": "* \\_Momento flector\\_ en una viga simplemente apoyada:",
      "metadata": {}
    },
    {
      "cell_type": "markdown",
      "source": "$$ M = \\frac{wL^2}{8} $$",
      "metadata": {}
    },
    {
      "cell_type": "markdown",
      "source": "Donde M es el momento flector máximo, w es la carga uniformemente distribuida, y L es la longitud de la viga.",
      "metadata": {}
    },
    {
      "cell_type": "markdown",
      "source": "* Esfuerzo cortante en una viga simplemente apoyada:",
      "metadata": {}
    },
    {
      "cell_type": "markdown",
      "source": "$$ V = \\frac{wL}{2} $$",
      "metadata": {}
    },
    {
      "cell_type": "markdown",
      "source": "Donde V es es esfuerzo cortante máximo.",
      "metadata": {}
    }
  ]
}